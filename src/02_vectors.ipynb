{
 "cells": [
  {
   "cell_type": "markdown",
   "id": "b8a22d0b-80d2-4b64-b9c7-8fba26f9f282",
   "metadata": {},
   "source": [
    "# Vectors\n",
    "\n",
    "$$\\boldsymbol{a} = (1,2,3)$$\n",
    "$$\\boldsymbol{b} = (4,0,-5)$$\n",
    "$$\\boldsymbol{c} = (-1,-2,7)$$\n",
    "$$k = -2$$\n",
    "\n",
    "Compleate the following vector operations in these 3 methods:\n",
    "- Manual: using $\\LaTeX$\n",
    "- Python: using lists and `for` loops\n",
    "- Numpy: using ndarrays and Numpy\n",
    "\n",
    "The operations are as follows:\n",
    "- _Vector addition_: $a + b$\n",
    "- _Dot product_: $ a \\cdot b$\n",
    "- _Scalar multiplication_: $k \\, c$\n",
    "- _Vector subtraction:_ $a - c$\n",
    "- _Example of a combined vector operation:_ $a -k \\, b$\n",
    "  "
   ]
  },
  {
   "cell_type": "markdown",
   "id": "35e77947-5378-4c9f-88de-a4edf7350e86",
   "metadata": {},
   "source": [
    "## Manual: LaTeX\n",
    "\n",
    "### Vector addition\n",
    "\n",
    "$$a + b = (1+4,2+0,3+(-5)) = (5, 2, -2)$$\n",
    "$$a+b=(5,2, -2)$$\n",
    "\n",
    "### Dot product\n",
    "\n",
    "$$a \\cdot b=(1\\cdot4+2\\cdot0+3\\cdot(-5))=(4+ 0 -15)=-11$$\n",
    "$$a \\cdot b=-11$$\n",
    "\n",
    "\n",
    "### Scalar multiplication\n",
    "\n",
    "$$k \\, c=(-1\\cdot-2,-2\\cdot-2, 7\\cdot-2)= (2,4, -14)$$\n",
    "$$k \\, c=(2,4, -14)$$\n",
    "\n",
    "### Vector subtraction\n",
    "\n",
    "$$a - c= (1- (-1), 2 - (-2), 3 - 7)= (2,4,-4)$$\n",
    "$$a - c=(2,4,-4)$$\n",
    "\n",
    "### Combined vector operation\n",
    "\n",
    "$$a-k\\,b = (1,2,3) -(-2)\\,(4,0,-5)=$$\n",
    "$$(1,2,3)+2 \\,(4,0,-5) =$$\n",
    "\n",
    "$$(1,2,3) + (8, 0,-10) =$$\n",
    "$$(9,2,-7)$$\n",
    "$$a-k\\,b=(9,2,-7)$$"
   ]
  },
  {
   "cell_type": "markdown",
   "id": "5f062f30-bfed-4f78-9d84-2288b17dc890",
   "metadata": {},
   "source": [
    "## Python lists\n",
    "\n",
    "### Vector addition"
   ]
  },
  {
   "cell_type": "code",
   "execution_count": 3,
   "id": "5d93dffd-ae3f-49b7-aa21-8a11355a30ff",
   "metadata": {},
   "outputs": [
    {
     "name": "stdout",
     "output_type": "stream",
     "text": [
      "[5, 2, -2]\n"
     ]
    }
   ],
   "source": [
    "a = [1, 2, 3]\n",
    "b = [4, 0, -5]\n",
    "c = [-1, -2, 7]\n",
    "k = -2\n",
    "\n",
    "result = []\n",
    "for i in range(3):\n",
    "    result.append(a[i] + b[i])\n",
    "print(result)"
   ]
  },
  {
   "cell_type": "code",
   "execution_count": null,
   "id": "97364ab1-c545-4003-a4fc-85aa8a222b97",
   "metadata": {},
   "outputs": [
    {
     "name": "stdout",
     "output_type": "stream",
     "text": [
      "[5, 2, -2]\n"
     ]
    }
   ],
   "source": [
    "result = []\n",
    "for x, y in zip(a, b):\n",
    "    result.append(x+y)\n",
    "print(result)"
   ]
  },
  {
   "cell_type": "code",
   "execution_count": null,
   "id": "c16c7fd2-f42e-4f13-8cf9-9c4cd00c3578",
   "metadata": {},
   "outputs": [
    {
     "data": {
      "text/plain": [
       "[5, 2, -2]"
      ]
     },
     "execution_count": 10,
     "metadata": {},
     "output_type": "execute_result"
    }
   ],
   "source": [
    "[x+y for x, y in zip(a, b)]"
   ]
  },
  {
   "cell_type": "markdown",
   "id": "00de155d",
   "metadata": {},
   "source": [
    "### Dot product"
   ]
  },
  {
   "cell_type": "code",
   "execution_count": 16,
   "id": "64a3ec31-247d-4aaf-9054-9c7ecfafa7ed",
   "metadata": {},
   "outputs": [
    {
     "name": "stdout",
     "output_type": "stream",
     "text": [
      "-11\n"
     ]
    }
   ],
   "source": [
    "result = 0\n",
    "for i in range(3):\n",
    "    result+= (a[i] * b[i])\n",
    "print(result)"
   ]
  },
  {
   "cell_type": "code",
   "execution_count": 17,
   "id": "2d029f5e-c94d-47d8-a04f-ebcd8e538af6",
   "metadata": {},
   "outputs": [
    {
     "data": {
      "text/plain": [
       "-11"
      ]
     },
     "execution_count": 17,
     "metadata": {},
     "output_type": "execute_result"
    }
   ],
   "source": [
    "sum(x*y for x, y in zip(a, b))"
   ]
  },
  {
   "cell_type": "markdown",
   "id": "8afd183f-6cca-4176-8e2d-7ecf992adb5e",
   "metadata": {},
   "source": [
    "### Scalar multiplication"
   ]
  },
  {
   "cell_type": "code",
   "execution_count": 23,
   "id": "e3aae3d1-80e6-44af-a78a-593e73a14598",
   "metadata": {},
   "outputs": [
    {
     "name": "stdout",
     "output_type": "stream",
     "text": [
      "[2, 4, -14]\n"
     ]
    }
   ],
   "source": [
    "result = []\n",
    "for i in range(3):\n",
    "    result.append(c[i] * k)\n",
    "print(result)"
   ]
  },
  {
   "cell_type": "code",
   "execution_count": 24,
   "id": "6fa3a834-eb1a-4d65-9522-b09dc9a6204d",
   "metadata": {},
   "outputs": [
    {
     "data": {
      "text/plain": [
       "[2, 4, -14]"
      ]
     },
     "execution_count": 24,
     "metadata": {},
     "output_type": "execute_result"
    }
   ],
   "source": [
    "[i * k for i in c]"
   ]
  },
  {
   "cell_type": "markdown",
   "id": "97056216-52de-451d-bd5c-d0d193a2ee7a",
   "metadata": {},
   "source": [
    "### Vector subtraction"
   ]
  },
  {
   "cell_type": "code",
   "execution_count": 26,
   "id": "7b399ef3-6af4-48e3-86d9-afe970734870",
   "metadata": {},
   "outputs": [
    {
     "name": "stdout",
     "output_type": "stream",
     "text": [
      "[2, 4, -4]\n"
     ]
    }
   ],
   "source": [
    "result = []\n",
    "for i in range(3):\n",
    "    result.append(a[i] - c[i])\n",
    "print(result)"
   ]
  },
  {
   "cell_type": "code",
   "execution_count": null,
   "id": "3d8e6f8d-ae1f-4296-806f-db8f30c8a32c",
   "metadata": {},
   "outputs": [
    {
     "data": {
      "text/plain": [
       "[2, 4, -4]"
      ]
     },
     "execution_count": 28,
     "metadata": {},
     "output_type": "execute_result"
    }
   ],
   "source": [
    "[x-y for x, y in zip(a, c)]"
   ]
  },
  {
   "cell_type": "markdown",
   "id": "39cdca14-4e84-4a19-b2c4-a81d9710781f",
   "metadata": {},
   "source": [
    "### Combined vector operation"
   ]
  },
  {
   "cell_type": "code",
   "execution_count": null,
   "id": "dcf10cba-e875-48c1-9bd6-2a174036e8e2",
   "metadata": {},
   "outputs": [
    {
     "data": {
      "text/plain": [
       "[9, 2, -7]"
      ]
     },
     "execution_count": 29,
     "metadata": {},
     "output_type": "execute_result"
    }
   ],
   "source": [
    "[x-k*y for x, y in zip(a, b)]"
   ]
  },
  {
   "cell_type": "markdown",
   "id": "15f77ffe-d073-46bd-84fe-c37ac1b7fd45",
   "metadata": {},
   "source": [
    "## Numpy\n",
    "\n",
    "### Vector addition"
   ]
  },
  {
   "cell_type": "code",
   "execution_count": 4,
   "id": "4fa80bd7-64df-4142-a69f-488844eeae00",
   "metadata": {
    "collapsed": true,
    "jupyter": {
     "outputs_hidden": true
    }
   },
   "outputs": [
    {
     "name": "stdout",
     "output_type": "stream",
     "text": [
      "[ 5  2 -2]\n"
     ]
    }
   ],
   "source": [
    "import numpy as np\n",
    "a = np.array(a)\n",
    "b = np.array(b)\n",
    "c = np.array(c)\n",
    "\n",
    "print(a+b)"
   ]
  },
  {
   "cell_type": "markdown",
   "id": "c8de4a91-453d-4f7a-b33d-2990e85af611",
   "metadata": {},
   "source": [
    "### Dot product"
   ]
  },
  {
   "cell_type": "code",
   "execution_count": 5,
   "id": "846dde27-72f8-437a-b133-1ea02312cb5d",
   "metadata": {},
   "outputs": [
    {
     "name": "stdout",
     "output_type": "stream",
     "text": [
      "-11\n"
     ]
    }
   ],
   "source": [
    "print(np.dot(a, b))"
   ]
  },
  {
   "cell_type": "code",
   "execution_count": 7,
   "id": "610c3cba-a3e9-4f4b-9073-33b4768788d2",
   "metadata": {},
   "outputs": [
    {
     "name": "stdout",
     "output_type": "stream",
     "text": [
      "-11\n"
     ]
    }
   ],
   "source": [
    "print(a@b)"
   ]
  },
  {
   "cell_type": "markdown",
   "id": "c0948ccc-1608-4591-be4a-00c589ed01dd",
   "metadata": {},
   "source": [
    "### Scalar multiplication"
   ]
  },
  {
   "cell_type": "code",
   "execution_count": 39,
   "id": "1318211d-4878-403b-8d57-000ff3a2cd94",
   "metadata": {},
   "outputs": [
    {
     "name": "stdout",
     "output_type": "stream",
     "text": [
      "[  2   4 -14]\n"
     ]
    }
   ],
   "source": [
    "print(k * c)"
   ]
  },
  {
   "cell_type": "markdown",
   "id": "c22ffb12-40c1-49ab-8553-74609ce75748",
   "metadata": {},
   "source": [
    "### Vector subtraction"
   ]
  },
  {
   "cell_type": "code",
   "execution_count": 40,
   "id": "aebd290d-e69f-4913-95af-6c028aa68eaa",
   "metadata": {},
   "outputs": [
    {
     "name": "stdout",
     "output_type": "stream",
     "text": [
      "[ 2  4 -4]\n"
     ]
    }
   ],
   "source": [
    "print(a-c)"
   ]
  },
  {
   "cell_type": "markdown",
   "id": "55f6bda9-e688-4088-9a5b-0276d987ad58",
   "metadata": {},
   "source": [
    "### Combined vector operation"
   ]
  },
  {
   "cell_type": "code",
   "execution_count": 41,
   "id": "19284e54-a38b-4194-8dd8-4cf8ced4c213",
   "metadata": {},
   "outputs": [
    {
     "name": "stdout",
     "output_type": "stream",
     "text": [
      "[ 9  2 -7]\n"
     ]
    }
   ],
   "source": [
    "print(a-k*b)"
   ]
  }
 ],
 "metadata": {
  "kernelspec": {
   "display_name": "Python 3 (ipykernel)",
   "language": "python",
   "name": "python3"
  },
  "language_info": {
   "codemirror_mode": {
    "name": "ipython",
    "version": 3
   },
   "file_extension": ".py",
   "mimetype": "text/x-python",
   "name": "python",
   "nbconvert_exporter": "python",
   "pygments_lexer": "ipython3",
   "version": "3.12.3"
  }
 },
 "nbformat": 4,
 "nbformat_minor": 5
}
