{
 "cells": [
  {
   "cell_type": "markdown",
   "id": "cb5b4ee0-6929-4c9a-b82b-171e06f764e4",
   "metadata": {},
   "source": [
    "# Determinants\n",
    "\n",
    "Given the following matrices:\n",
    "\n",
    "**Matrix A (1x1):**\n",
    "$$\n",
    "A = \\left( \\begin{matrix} 5 \\end{matrix} \\right)\n",
    "$$\n",
    "\n",
    "\n",
    "**Matrix B (2x2):**\n",
    "$$\n",
    "B = \\left( \\begin{matrix}\n",
    "1 & 2 \\\\\n",
    "3 & 4\n",
    "\\end{matrix} \\right)\n",
    "$$\n",
    "\n",
    "\n",
    "**Matrix C (3x3):**\n",
    "$$\n",
    "C = \\left( \\begin{matrix}\n",
    "3 & -3 & 4 \\\\\n",
    "5 & -4 & 0 \\\\\n",
    "-2 & 2 & -1\n",
    "\\end{matrix} \\right)\n",
    "$$\n",
    "\n",
    "\n",
    "**Matrix D (4x4):**\n",
    "$$\n",
    "D = \\left( \\begin{matrix}\n",
    "7 & -4 & -5 & 5 \\\\\n",
    "8 & 0 & 6 & -4 \\\\\n",
    "1 & -4 & 0 & 2 \\\\\n",
    "4 & 0 & 3 & -2\n",
    "\\end{matrix} \\right)\n",
    "$$\n",
    "\n",
    "\n",
    "**Triangular Matrix E (5x5):**\n",
    "$$\n",
    "E = \\left( \\begin{matrix}\n",
    "2 & -4 & -5 & 5 &  2 \\\\\n",
    "0 & 1 &  6 & -3 &  4 \\\\\n",
    "0 & 0 & -1 &  2 & -1 \\\\\n",
    "0 & 0 &  0 & -3 & -5 \\\\\n",
    "0 & 0 &  0 &  0 &  4\n",
    "\\end{matrix} \\right)\n",
    "$$\n",
    "\n",
    "\n",
    "Tasks:\n",
    "\n",
    "\n",
    "1. Calculate the determinant of matrices $A$, $B$, $C$, $D$, and $E$ by two methods:\n",
    "   - Manually (using $\\LaTeX$)\n",
    "   - Using `Numpy`\n",
    "2. Use Numpy to generate a square matrix of order $n = 6$ made up of random integers between -9 and +9. Calculate its determinant.\n",
    "3. How long does it take to calculate the determinant of a matrix of order $n=500$, made up of random `float` numbers ranging between 0 and 1?\n",
    "4. One of the properties of determinants states that the determinant of a matrix is the same as that of its transpose.\n",
    "$$det(A) = det(A^T)$$\n",
    "Verify this property with matrix $C$.\n",
    "5. Create matrix $C'$ which is matrix $C$ but where the first row has been multiplied by a scalar $k=2$.\n",
    "The goal is to check this property:\n",
    "$$\\det(C') = k \\cdot \\det(C)$$\n",
    "$$\\begin{pmatrix}\n",
    "k a_{11} & k a_{12} & k a_{13} \\\\\n",
    "a_{21} & a_{22} & a_{23} \\\\\n",
    "a_{31} & a_{32} & a_{33}\n",
    "\\end{pmatrix} = k \\, \\begin{pmatrix}\n",
    "a_{11} & a_{12} & a_{13} \\\\\n",
    "a_{21} & a_{22} & a_{23} \\\\\n",
    "a_{31} & a_{32} & a_{33}\n",
    "\\end{pmatrix}$$\n",
    "Using our data:\n",
    "$$\n",
    "C = \\begin{pmatrix}\n",
    "3 & -3 & 4 \\\\\n",
    "5 & -4 & 0 \\\\\n",
    "-2 & 2 & -1\n",
    "\\end{pmatrix}\n",
    "$$\n",
    "with $k = 2$, the matrix $C'$ is:\n",
    "$$\n",
    "C' = \\begin{pmatrix}\n",
    "6 & -6 & 8 \\\\\n",
    "5 & -4 & 0 \\\\\n",
    "-2 & 2 & -1\n",
    "\\end{pmatrix}\n",
    "$$  \n",
    "Verify that the determinant of $C'$ is double the determinant of $C$.  \n",
    "6. Another property of determinants states what happens when calculating the determinant of a matrix and comparing it with the determinant of that matrix multiplied by a scalar $k$.\n",
    "$$det(k A) = k^n \\, det(A)$$\n",
    "Verify this property for matrix $C$ and scalar $k=2$.\n",
    "7. Verify with matrix $C$ that when two rows (or columns) are swapped, the determinant changes sign.\n",
    "8. Another property states that if a row (or column) is a linear combination of other(s), the determinant is zero.  \n",
    "Verify this property with matrix $C$, replacing its third row with the first row plus the second row multiplied by 2.  \n",
    "The new row 3 will be:\n",
    "$$F_3^{'} = F_1+2*F_2$$\n",
    "\n",
    "Current date: Friday, July 04, 2025, 1:09 PM CEST"
   ]
  },
  {
   "cell_type": "code",
   "execution_count": 45,
   "id": "0610a9c1-1dd5-4a44-94c7-9f40663ec730",
   "metadata": {},
   "outputs": [],
   "source": [
    "import numpy as np\n",
    "import time\n",
    "\n",
    "A = np.array([[5]])\n",
    "\n",
    "\n",
    "B = np.array([\n",
    "    [1, 2],\n",
    "    [3, 4]\n",
    "])\n",
    "\n",
    "C = np.array([\n",
    "    [3, -3, 4],\n",
    "    [5, -4, 0],\n",
    "    [-2, 2, -1]\n",
    "])\n",
    "\n",
    "D = np.array([\n",
    "    [7, -4, -5, 5],\n",
    "    [8, 0, 6, -4],\n",
    "    [1, -4, 0, 2],\n",
    "    [4, 0, 3, -2]\n",
    "])\n",
    "\n",
    "E = np.array([\n",
    "    [2, -4, -5, 5, 2],\n",
    "    [0, 1, 6, -3, 4],\n",
    "    [0, 0, -1, 2, -1],\n",
    "    [0, 0, 0, -3, -5],\n",
    "    [0, 0, 0, 0, 4]\n",
    "])"
   ]
  },
  {
   "cell_type": "code",
   "execution_count": 18,
   "id": "9516c7c7-13c1-4562-8b08-0d41aae16c13",
   "metadata": {},
   "outputs": [
    {
     "name": "stdout",
     "output_type": "stream",
     "text": [
      "5\n"
     ]
    }
   ],
   "source": [
    "print(round(np.linalg.det(A)))"
   ]
  },
  {
   "cell_type": "code",
   "execution_count": 19,
   "id": "d2893f43-85d9-471a-a448-d2304a708707",
   "metadata": {},
   "outputs": [
    {
     "name": "stdout",
     "output_type": "stream",
     "text": [
      "-2\n"
     ]
    }
   ],
   "source": [
    "print(round(np.linalg.det(B)))"
   ]
  },
  {
   "cell_type": "code",
   "execution_count": 20,
   "id": "66259dfe-0926-4312-bc68-e3129634caac",
   "metadata": {},
   "outputs": [
    {
     "name": "stdout",
     "output_type": "stream",
     "text": [
      "5\n"
     ]
    }
   ],
   "source": [
    "print(round(np.linalg.det(C)))"
   ]
  },
  {
   "cell_type": "code",
   "execution_count": 24,
   "id": "9c558be6-c419-481f-9388-91ed122b6866",
   "metadata": {},
   "outputs": [
    {
     "name": "stdout",
     "output_type": "stream",
     "text": [
      "0.0\n"
     ]
    }
   ],
   "source": [
    "print(np.linalg.det(D))"
   ]
  },
  {
   "cell_type": "code",
   "execution_count": 26,
   "id": "86f13f88-3f5d-40a5-8558-4864d2c3cfc7",
   "metadata": {},
   "outputs": [
    {
     "name": "stdout",
     "output_type": "stream",
     "text": [
      "24\n"
     ]
    }
   ],
   "source": [
    "print(round(np.linalg.det(E)))"
   ]
  },
  {
   "cell_type": "code",
   "execution_count": 42,
   "id": "b0cebe33-c561-4a5b-b8dd-616f5f953e5d",
   "metadata": {},
   "outputs": [
    {
     "name": "stdout",
     "output_type": "stream",
     "text": [
      "8790.0\n"
     ]
    }
   ],
   "source": [
    "matrix = np.random.randint(-9, 10, size=(4, 4))\n",
    "print(round(np.linalg.det(matrix), 10))"
   ]
  },
  {
   "cell_type": "code",
   "execution_count": 76,
   "id": "273b4f1a-2697-441a-95ad-3cf52d56dd0b",
   "metadata": {},
   "outputs": [
    {
     "name": "stdout",
     "output_type": "stream",
     "text": [
      "3.913066205427341e+297\n",
      "Execution time: 0.009457826614379883 seconds\n"
     ]
    }
   ],
   "source": [
    "start_time = time.time()\n",
    "\n",
    "matrix = np.random.random((500, 500))\n",
    "print(round(np.linalg.det(matrix), 10))\n",
    "\n",
    "end_time = time.time()\n",
    "print(f\"Execution time: {end_time - start_time} seconds\")"
   ]
  }
 ],
 "metadata": {
  "kernelspec": {
   "display_name": "Python 3 (ipykernel)",
   "language": "python",
   "name": "python3"
  },
  "language_info": {
   "codemirror_mode": {
    "name": "ipython",
    "version": 3
   },
   "file_extension": ".py",
   "mimetype": "text/x-python",
   "name": "python",
   "nbconvert_exporter": "python",
   "pygments_lexer": "ipython3",
   "version": "3.13.2"
  }
 },
 "nbformat": 4,
 "nbformat_minor": 5
}
