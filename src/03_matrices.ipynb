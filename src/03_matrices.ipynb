{
 "cells": [
  {
   "cell_type": "markdown",
   "id": "1b45f784-0efa-4466-91ec-9a280aba9843",
   "metadata": {},
   "source": [
    "# Matrices\n",
    "Let $A$, $B$, $C$ be the matrices:\n",
    "\n",
    "$$A = \\begin{pmatrix} 1 & 2 & 3 \\\\ 4 & 5 & 6 \\\\ 7 & 8 & 9 \\end{pmatrix}, \\quad\n",
    "B = \\begin{pmatrix} 3 & -1 & -2 \\\\ -2 & 0 & 1 \\\\ 5 & -3 & 0 \\end{pmatrix}, \\quad\n",
    "C = \\begin{pmatrix} -1 & -6 & -2 \\\\ 3 & 1 & 11 \\end{pmatrix}$$\n",
    "\n",
    "Let the scalar $k = -3$.\n",
    "\n",
    "Solve the following operations using Numpy.\n",
    "1. Transpose of $C$. The transpose is usually represented as $C^T$, or as $C^t$, or as $C'$.\n",
    "2. Matrix addition: $A + B$\n",
    "3. Matrix subtraction: $A - B$\n",
    "4. Scalar-matrix product: $k B$\n",
    "5. Matrix product: $AB$\n",
    "6. Use a Numpy function to calculate the number of rows and columns of matrix $C$.\n",
    "7. Is the product $BC$ possible? If so, calculate it.\n",
    "8. Is the product $CB$ possible? If so, calculate it.\n",
    "9. Calculate the trace of matrix $A$."
   ]
  },
  {
   "cell_type": "code",
   "execution_count": 11,
   "id": "b3eba2ce-f85c-484a-9238-e97576f8ee5d",
   "metadata": {},
   "outputs": [],
   "source": [
    "import numpy as np\n",
    "\n",
    "A = np.matrix([[1,2,3],[4,5,6],[7,8,9]])\n",
    "B = np.matrix([[3,-1,-2],[-2,0,1],[5,-3,0]])\n",
    "C = np.matrix([[-1,-6,-2],[3,1,11]])\n",
    "k = -3"
   ]
  },
  {
   "cell_type": "markdown",
   "id": "24a547a9-4c54-48be-b46b-3b1a1ab86409",
   "metadata": {},
   "source": [
    "## Transposition of matrices"
   ]
  },
  {
   "cell_type": "code",
   "execution_count": 2,
   "id": "3f29d72e-b23d-4254-b74a-3bb3e0bba518",
   "metadata": {},
   "outputs": [
    {
     "name": "stdout",
     "output_type": "stream",
     "text": [
      "[[-1  3]\n",
      " [-6  1]\n",
      " [-2 11]]\n"
     ]
    }
   ],
   "source": [
    "print(np.transpose(C))"
   ]
  },
  {
   "cell_type": "markdown",
   "id": "0288dce9-ac05-4e71-90a8-e16371074cde",
   "metadata": {},
   "source": [
    "## Matrix addition"
   ]
  },
  {
   "cell_type": "code",
   "execution_count": 3,
   "id": "cc88a0ae-4055-4cd1-b0dc-e562a42ab82b",
   "metadata": {},
   "outputs": [
    {
     "name": "stdout",
     "output_type": "stream",
     "text": [
      "[[ 4  1  1]\n",
      " [ 2  5  7]\n",
      " [12  5  9]]\n"
     ]
    }
   ],
   "source": [
    "print(A+B)"
   ]
  },
  {
   "cell_type": "markdown",
   "id": "c95d8535-9a60-4802-aa3c-df4a210943ce",
   "metadata": {},
   "source": [
    "## Matrix substraction"
   ]
  },
  {
   "cell_type": "code",
   "execution_count": 4,
   "id": "c3920e1c-6735-4605-b599-a4265a16a91c",
   "metadata": {},
   "outputs": [
    {
     "name": "stdout",
     "output_type": "stream",
     "text": [
      "[[-2  3  5]\n",
      " [ 6  5  5]\n",
      " [ 2 11  9]]\n"
     ]
    }
   ],
   "source": [
    "print(A-B)"
   ]
  },
  {
   "cell_type": "markdown",
   "id": "cdc635e3-92e1-4d69-9596-3d34ba273997",
   "metadata": {},
   "source": [
    "## Scalar-matrix product"
   ]
  },
  {
   "cell_type": "code",
   "execution_count": 5,
   "id": "2202adb4-51c9-468a-9fac-3be10abce082",
   "metadata": {},
   "outputs": [
    {
     "name": "stdout",
     "output_type": "stream",
     "text": [
      "[[ -9   3   6]\n",
      " [  6   0  -3]\n",
      " [-15   9   0]]\n"
     ]
    }
   ],
   "source": [
    "print(k*B)"
   ]
  },
  {
   "cell_type": "markdown",
   "id": "018e8c4a-4708-440d-8c08-4ab48942bf10",
   "metadata": {},
   "source": [
    "## Matrix product"
   ]
  },
  {
   "cell_type": "code",
   "execution_count": 6,
   "id": "651bb30b-12cf-4741-9def-0f96144e1085",
   "metadata": {},
   "outputs": [
    {
     "name": "stdout",
     "output_type": "stream",
     "text": [
      "[[ 14 -10   0]\n",
      " [ 32 -22  -3]\n",
      " [ 50 -34  -6]]\n"
     ]
    }
   ],
   "source": [
    "print(A*B)"
   ]
  },
  {
   "cell_type": "code",
   "execution_count": 18,
   "id": "64b7deaa",
   "metadata": {},
   "outputs": [
    {
     "name": "stdout",
     "output_type": "stream",
     "text": [
      "[[ 14 -10   0]\n",
      " [ 32 -22  -3]\n",
      " [ 50 -34  -6]]\n"
     ]
    }
   ],
   "source": [
    "print(A@B)"
   ]
  },
  {
   "cell_type": "code",
   "execution_count": 21,
   "id": "f7da80a0-69fc-4902-9b01-67a34663bcc8",
   "metadata": {},
   "outputs": [
    {
     "name": "stdout",
     "output_type": "stream",
     "text": [
      "[[ 14 -10   0]\n",
      " [ 32 -22  -3]\n",
      " [ 50 -34  -6]]\n"
     ]
    }
   ],
   "source": [
    "print(A.dot(B))"
   ]
  },
  {
   "cell_type": "markdown",
   "id": "856b8e45-96c6-488e-ae4d-820c68752ec4",
   "metadata": {},
   "source": [
    "## Matrix dimension"
   ]
  },
  {
   "cell_type": "code",
   "execution_count": 13,
   "id": "6a553237-205d-42b3-afbe-ee6b37e277e6",
   "metadata": {},
   "outputs": [
    {
     "data": {
      "text/plain": [
       "(2, 3)"
      ]
     },
     "execution_count": 13,
     "metadata": {},
     "output_type": "execute_result"
    }
   ],
   "source": [
    "np.shape(C)"
   ]
  },
  {
   "cell_type": "markdown",
   "id": "e4ca5622-37a0-41c8-95bf-bce87f02bd03",
   "metadata": {},
   "source": [
    "## Posible product"
   ]
  },
  {
   "cell_type": "code",
   "execution_count": 16,
   "id": "167077c8-33da-4a2b-94ec-34eed607c74e",
   "metadata": {},
   "outputs": [
    {
     "name": "stdout",
     "output_type": "stream",
     "text": [
      "ERROR: Shapes don't align\n"
     ]
    }
   ],
   "source": [
    "try:\n",
    "    B*C\n",
    "except:\n",
    "    print(\"ERROR: Shapes don't align\")"
   ]
  },
  {
   "cell_type": "code",
   "execution_count": 15,
   "id": "8d2926e2-23a3-4efe-9216-fef58ae766e8",
   "metadata": {},
   "outputs": [
    {
     "name": "stdout",
     "output_type": "stream",
     "text": [
      "[[ -1   7  -4]\n",
      " [ 62 -36  -5]]\n"
     ]
    }
   ],
   "source": [
    "print(C*B)"
   ]
  },
  {
   "cell_type": "markdown",
   "id": "38566d39-053b-4fe6-bbcb-3258e781fbeb",
   "metadata": {},
   "source": [
    "## Matrix trace\n",
    "\n",
    "$$A = \\begin{pmatrix} 1 & 2 & 3 \\\\ 4 & 5 & 6 \\\\ 7 & 8 & 9 \\end{pmatrix}$$\n",
    "Trace $A$: $1 + 5 + 9 = 15$"
   ]
  },
  {
   "cell_type": "code",
   "execution_count": 17,
   "id": "4e672052-d875-4f06-b7b2-ced41580eb76",
   "metadata": {},
   "outputs": [
    {
     "name": "stdout",
     "output_type": "stream",
     "text": [
      "15\n"
     ]
    }
   ],
   "source": [
    "print(np.trace(A))"
   ]
  }
 ],
 "metadata": {
  "kernelspec": {
   "display_name": "Python 3 (ipykernel)",
   "language": "python",
   "name": "python3"
  },
  "language_info": {
   "codemirror_mode": {
    "name": "ipython",
    "version": 3
   },
   "file_extension": ".py",
   "mimetype": "text/x-python",
   "name": "python",
   "nbconvert_exporter": "python",
   "pygments_lexer": "ipython3",
   "version": "3.12.3"
  }
 },
 "nbformat": 4,
 "nbformat_minor": 5
}
